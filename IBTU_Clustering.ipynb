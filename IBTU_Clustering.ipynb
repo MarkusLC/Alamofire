{
  "nbformat": 4,
  "nbformat_minor": 0,
  "metadata": {
    "colab": {
      "provenance": [],
      "collapsed_sections": [],
      "authorship_tag": "ABX9TyPxgoFWTN3A3ircyNDbJxbZ",
      "include_colab_link": true
    },
    "kernelspec": {
      "display_name": "Python 3",
      "name": "python3"
    },
    "language_info": {
      "name": "python"
    }
  },
  "cells": [
    {
      "cell_type": "markdown",
      "metadata": {
        "id": "view-in-github",
        "colab_type": "text"
      },
      "source": [
        "<a href=\"https://colab.research.google.com/github/MarkusLC/Alamofire/blob/master/IBTU_Clustering.ipynb\" target=\"_parent\"><img src=\"https://colab.research.google.com/assets/colab-badge.svg\" alt=\"Open In Colab\"/></a>"
      ]
    },
    {
      "cell_type": "markdown",
      "metadata": {
        "id": "_p0LfevQbs36"
      },
      "source": [
        "\n",
        "\n",
        "### **Instal and Imports**\n",
        "\n",
        "\n",
        "\n",
        "\n"
      ]
    },
    {
      "cell_type": "code",
      "metadata": {
        "id": "uMDdx6YuMIKE",
        "colab": {
          "base_uri": "https://localhost:8080/"
        },
        "outputId": "2f3ad6cd-6969-4c13-dd5c-7aa592796d45"
      },
      "source": [
        "pip install mat4py\n"
      ],
      "execution_count": null,
      "outputs": [
        {
          "output_type": "stream",
          "name": "stdout",
          "text": [
            "Collecting mat4py\n",
            "  Downloading mat4py-0.5.0-py2.py3-none-any.whl (13 kB)\n",
            "Installing collected packages: mat4py\n",
            "Successfully installed mat4py-0.5.0\n"
          ]
        }
      ]
    },
    {
      "cell_type": "code",
      "metadata": {
        "id": "p8j9OnI60gEs"
      },
      "source": [
        "pip install kneebow"
      ],
      "execution_count": null,
      "outputs": []
    },
    {
      "cell_type": "code",
      "metadata": {
        "id": "OF9yhEyXbUus"
      },
      "source": [
        "\n",
        "import pandas as pd\n",
        "import numpy as np\n",
        "import datetime\n",
        "import matplotlib.pyplot as plt\n",
        "from mpl_toolkits.mplot3d import Axes3D\n",
        "import plotly.express as px\n",
        "import math\n",
        "from mat4py import loadmat\n",
        "\n",
        "import seaborn as sns\n",
        "from numpy import unique\n",
        "from numpy import where\n",
        "from astropy import stats as stats\n",
        "from collections import Counter\n",
        "from sklearn import preprocessing\n",
        "from kneebow.rotor import Rotor\n",
        "from sklearn.datasets import make_classification\n",
        "from sklearn.cluster import SpectralClustering\n",
        "from sklearn.cluster import DBSCAN\n",
        "from sklearn.cluster import KMeans\n",
        "from sklearn.neighbors import NearestNeighbors\n",
        "from sklearn.cluster import AgglomerativeClustering"
      ],
      "execution_count": null,
      "outputs": []
    },
    {
      "cell_type": "code",
      "metadata": {
        "id": "P55r2nKgbq6N",
        "colab": {
          "base_uri": "https://localhost:8080/"
        },
        "outputId": "59490be4-df71-4e69-e302-abbe81126168"
      },
      "source": [
        "from google.colab import drive\n",
        "drive.mount('/content/drive')"
      ],
      "execution_count": null,
      "outputs": [
        {
          "output_type": "stream",
          "name": "stdout",
          "text": [
            "Mounted at /content/drive\n"
          ]
        }
      ]
    },
    {
      "cell_type": "markdown",
      "metadata": {
        "id": "We9FabdKb37i"
      },
      "source": [
        "### **Load datas**"
      ]
    },
    {
      "cell_type": "code",
      "metadata": {
        "id": "hNUl_qk4b9B4"
      },
      "source": [
        "colonia = [pd.read_csv('/content/drive/My Drive/Dados parques/DadosIBTU/SCADA_TesteCFT/Taiba/Colonia_SCADA_1_day/Colonia_SCADA_1_day_OPDec_Cal.csv')][0]\n",
        "andorinha = [pd.read_csv('/content/drive/My Drive/Dados parques/DadosIBTU/SCADA_TesteCFT/Taiba/Andorinha_SCADA_1_day/Andorinha_SCADA_1_day_OPDec_Cal.csv')][0]\n",
        "aguia = [pd.read_csv('/content/drive/My Drive/Dados parques/DadosIBTU/SCADA_TesteCFT/Taiba/Aguia_SCADA_1_day/Aguia_SCADA_1_day_OPDec_Cal.csv')][0]\n",
        "santo_adriano = [pd.read_csv('/content/drive/My Drive/Dados parques/DadosIBTU/SCADA_TesteCFT/Caldeirao/Santo_Adriano_SCADA_1_day/Santo_Adriano_SCADA_1_day_OPDec_Cal.csv')][0]\n",
        "santo_barbara = [pd.read_csv('/content/drive/My Drive/Dados parques/DadosIBTU/SCADA_TesteCFT/Caldeirao/Santa_Barbara_SCADA_1_day/Santa_Barbara_SCADA_1_day_OPDec_Cal.csv')][0]\n",
        "santa_fatima = [pd.read_csv('/content/drive/My Drive/Dados parques/DadosIBTU/SCADA_TesteCFT/Caldeirao/Santa_Fatima_SCADA_1_day/Santa_Fatima_SCADA_1_day_OPDec_Cal.csv')][0]\n",
        "santa_edwiges = [pd.read_csv('/content/drive/My Drive/Dados parques/DadosIBTU/SCADA_TesteCFT/Caldeirao/Santa_Edwiges_SCADA_1_day/Santa_Edwiges_SCADA_1_day_OPDec_Cal.csv')][0]\n",
        "santa_regina = [pd.read_csv('/content/drive/My Drive/Dados parques/DadosIBTU/SCADA_TesteCFT/Caldeirao/Santa_Regina_SCADA_1_day/Santa_Regina_SCADA_1_day_OPDec_Cal.csv')][0]\n",
        "santa_albano = [pd.read_csv('/content/drive/My Drive/Dados parques/DadosIBTU/SCADA_TesteCFT/Caldeirao/Santo_Albano_SCADA_1_day/Santo_Albano_SCADA_1_day_OPDec_Cal.csv')][0]\n",
        "santa_angelina = [pd.read_csv('/content/drive/My Drive/Dados parques/DadosIBTU/SCADA_TesteCFT/Caldeirao/Santa_Angelina_SCADA_1_day/Santa_Angelina_SCADA_1_day_OPDec_Cal.csv')][0]\n",
        "icaraiI = [pd.read_csv('/content/drive/My Drive/Dados parques/DadosIBTU/SCADA_TesteCFT/Icarai/Icarai_I_SCADA_1_day/Icarai_I_SCADA_1_day_OPDec_Cal.csv')][0]\n",
        "icaraiII = [pd.read_csv('/content/drive/My Drive/Dados parques/DadosIBTU/SCADA_TesteCFT/Icarai/Icarai_II_SCADA_1_day/Icarai_II_SCADA_1_day_OPDec_Cal.csv')][0]\n",
        "ig = [pd.read_csv('/content/drive/My Drive/Dados parques/DadosIBTU/SCADA_TesteCFT/Amontada/IG_SCADA_1_day/IG_SCADA_1_day_OPDec_Cal.csv')][0]\n",
        "bc = [pd.read_csv('/content/drive/My Drive/Dados parques/DadosIBTU/SCADA_TesteCFT/Amontada/BC_SCADA_1_day/BC_SCADA_1_day_OPDec_Cal.csv')][0]\n",
        "rib = [pd.read_csv('/content/drive/My Drive/Dados parques/DadosIBTU/SCADA_TesteCFT/Amontada/RIB_SCADA_1_day/RIB_SCADA_1_day_OPDec_Cal.csv')][0]\n",
        "riachãoI = [pd.read_csv('/content/drive/My Drive/Dados parques/DadosIBTU/SCADA_TesteCFT/Riachao/Riachao_I_SCADA_1_day/Riachao_I_SCADA_1_day_OPDec_Cal.csv')][0]\n",
        "riachãoII = [pd.read_csv('/content/drive/My Drive/Dados parques/DadosIBTU/SCADA_TesteCFT/Riachao/Riachao_II_SCADA_1_day/Riachao_II_SCADA_1_day_OPDec_Cal.csv')][0]\n",
        "riachãoIV = [pd.read_csv('/content/drive/My Drive/Dados parques/DadosIBTU/SCADA_TesteCFT/Riachao/Riachao_IV_SCADA_1_day/Riachao_IV_SCADA_1_day_OPDec_Cal.csv')][0]\n",
        "riachãoVI = [pd.read_csv('/content/drive/My Drive/Dados parques/DadosIBTU/SCADA_TesteCFT/Riachao/Riachao_VI_SCADA_1_day/Riachao_VI_SCADA_1_day_OPDec_Cal.csv')][0]\n",
        "riachãoVII = [pd.read_csv('/content/drive/My Drive/Dados parques/DadosIBTU/SCADA_TesteCFT/Riachao/Riachao_VII_SCADA_1_day/Riachao_VII_SCADA_1_day_OPDec_Cal.csv')][0]\n",
        "\n",
        "\n"
      ],
      "execution_count": null,
      "outputs": []
    },
    {
      "cell_type": "code",
      "source": [
        "colonia"
      ],
      "metadata": {
        "colab": {
          "base_uri": "https://localhost:8080/",
          "height": 419
        },
        "id": "IINhMYyGkQj5",
        "outputId": "0b8bea17-9c0d-4a55-8f07-c46a0b0142bc"
      },
      "execution_count": null,
      "outputs": [
        {
          "output_type": "execute_result",
          "data": {
            "text/plain": [
              "     Timestamps      PotTotal\n",
              "0    2019-08-01           NaN\n",
              "1    2019-08-02           NaN\n",
              "2    2019-08-03           NaN\n",
              "3    2019-08-04           NaN\n",
              "4    2019-08-05           NaN\n",
              "..          ...           ...\n",
              "483  2020-11-26  13937.868056\n",
              "484  2020-11-27  15565.556250\n",
              "485  2020-11-28  14954.848611\n",
              "486  2020-11-29  15673.296528\n",
              "487  2020-11-30  14133.254167\n",
              "\n",
              "[488 rows x 2 columns]"
            ],
            "text/html": [
              "\n",
              "  <div id=\"df-6747da5c-3d4f-4a9f-a03e-16c50b01fdf2\">\n",
              "    <div class=\"colab-df-container\">\n",
              "      <div>\n",
              "<style scoped>\n",
              "    .dataframe tbody tr th:only-of-type {\n",
              "        vertical-align: middle;\n",
              "    }\n",
              "\n",
              "    .dataframe tbody tr th {\n",
              "        vertical-align: top;\n",
              "    }\n",
              "\n",
              "    .dataframe thead th {\n",
              "        text-align: right;\n",
              "    }\n",
              "</style>\n",
              "<table border=\"1\" class=\"dataframe\">\n",
              "  <thead>\n",
              "    <tr style=\"text-align: right;\">\n",
              "      <th></th>\n",
              "      <th>Timestamps</th>\n",
              "      <th>PotTotal</th>\n",
              "    </tr>\n",
              "  </thead>\n",
              "  <tbody>\n",
              "    <tr>\n",
              "      <th>0</th>\n",
              "      <td>2019-08-01</td>\n",
              "      <td>NaN</td>\n",
              "    </tr>\n",
              "    <tr>\n",
              "      <th>1</th>\n",
              "      <td>2019-08-02</td>\n",
              "      <td>NaN</td>\n",
              "    </tr>\n",
              "    <tr>\n",
              "      <th>2</th>\n",
              "      <td>2019-08-03</td>\n",
              "      <td>NaN</td>\n",
              "    </tr>\n",
              "    <tr>\n",
              "      <th>3</th>\n",
              "      <td>2019-08-04</td>\n",
              "      <td>NaN</td>\n",
              "    </tr>\n",
              "    <tr>\n",
              "      <th>4</th>\n",
              "      <td>2019-08-05</td>\n",
              "      <td>NaN</td>\n",
              "    </tr>\n",
              "    <tr>\n",
              "      <th>...</th>\n",
              "      <td>...</td>\n",
              "      <td>...</td>\n",
              "    </tr>\n",
              "    <tr>\n",
              "      <th>483</th>\n",
              "      <td>2020-11-26</td>\n",
              "      <td>13937.868056</td>\n",
              "    </tr>\n",
              "    <tr>\n",
              "      <th>484</th>\n",
              "      <td>2020-11-27</td>\n",
              "      <td>15565.556250</td>\n",
              "    </tr>\n",
              "    <tr>\n",
              "      <th>485</th>\n",
              "      <td>2020-11-28</td>\n",
              "      <td>14954.848611</td>\n",
              "    </tr>\n",
              "    <tr>\n",
              "      <th>486</th>\n",
              "      <td>2020-11-29</td>\n",
              "      <td>15673.296528</td>\n",
              "    </tr>\n",
              "    <tr>\n",
              "      <th>487</th>\n",
              "      <td>2020-11-30</td>\n",
              "      <td>14133.254167</td>\n",
              "    </tr>\n",
              "  </tbody>\n",
              "</table>\n",
              "<p>488 rows × 2 columns</p>\n",
              "</div>\n",
              "      <button class=\"colab-df-convert\" onclick=\"convertToInteractive('df-6747da5c-3d4f-4a9f-a03e-16c50b01fdf2')\"\n",
              "              title=\"Convert this dataframe to an interactive table.\"\n",
              "              style=\"display:none;\">\n",
              "        \n",
              "  <svg xmlns=\"http://www.w3.org/2000/svg\" height=\"24px\"viewBox=\"0 0 24 24\"\n",
              "       width=\"24px\">\n",
              "    <path d=\"M0 0h24v24H0V0z\" fill=\"none\"/>\n",
              "    <path d=\"M18.56 5.44l.94 2.06.94-2.06 2.06-.94-2.06-.94-.94-2.06-.94 2.06-2.06.94zm-11 1L8.5 8.5l.94-2.06 2.06-.94-2.06-.94L8.5 2.5l-.94 2.06-2.06.94zm10 10l.94 2.06.94-2.06 2.06-.94-2.06-.94-.94-2.06-.94 2.06-2.06.94z\"/><path d=\"M17.41 7.96l-1.37-1.37c-.4-.4-.92-.59-1.43-.59-.52 0-1.04.2-1.43.59L10.3 9.45l-7.72 7.72c-.78.78-.78 2.05 0 2.83L4 21.41c.39.39.9.59 1.41.59.51 0 1.02-.2 1.41-.59l7.78-7.78 2.81-2.81c.8-.78.8-2.07 0-2.86zM5.41 20L4 18.59l7.72-7.72 1.47 1.35L5.41 20z\"/>\n",
              "  </svg>\n",
              "      </button>\n",
              "      \n",
              "  <style>\n",
              "    .colab-df-container {\n",
              "      display:flex;\n",
              "      flex-wrap:wrap;\n",
              "      gap: 12px;\n",
              "    }\n",
              "\n",
              "    .colab-df-convert {\n",
              "      background-color: #E8F0FE;\n",
              "      border: none;\n",
              "      border-radius: 50%;\n",
              "      cursor: pointer;\n",
              "      display: none;\n",
              "      fill: #1967D2;\n",
              "      height: 32px;\n",
              "      padding: 0 0 0 0;\n",
              "      width: 32px;\n",
              "    }\n",
              "\n",
              "    .colab-df-convert:hover {\n",
              "      background-color: #E2EBFA;\n",
              "      box-shadow: 0px 1px 2px rgba(60, 64, 67, 0.3), 0px 1px 3px 1px rgba(60, 64, 67, 0.15);\n",
              "      fill: #174EA6;\n",
              "    }\n",
              "\n",
              "    [theme=dark] .colab-df-convert {\n",
              "      background-color: #3B4455;\n",
              "      fill: #D2E3FC;\n",
              "    }\n",
              "\n",
              "    [theme=dark] .colab-df-convert:hover {\n",
              "      background-color: #434B5C;\n",
              "      box-shadow: 0px 1px 3px 1px rgba(0, 0, 0, 0.15);\n",
              "      filter: drop-shadow(0px 1px 2px rgba(0, 0, 0, 0.3));\n",
              "      fill: #FFFFFF;\n",
              "    }\n",
              "  </style>\n",
              "\n",
              "      <script>\n",
              "        const buttonEl =\n",
              "          document.querySelector('#df-6747da5c-3d4f-4a9f-a03e-16c50b01fdf2 button.colab-df-convert');\n",
              "        buttonEl.style.display =\n",
              "          google.colab.kernel.accessAllowed ? 'block' : 'none';\n",
              "\n",
              "        async function convertToInteractive(key) {\n",
              "          const element = document.querySelector('#df-6747da5c-3d4f-4a9f-a03e-16c50b01fdf2');\n",
              "          const dataTable =\n",
              "            await google.colab.kernel.invokeFunction('convertToInteractive',\n",
              "                                                     [key], {});\n",
              "          if (!dataTable) return;\n",
              "\n",
              "          const docLinkHtml = 'Like what you see? Visit the ' +\n",
              "            '<a target=\"_blank\" href=https://colab.research.google.com/notebooks/data_table.ipynb>data table notebook</a>'\n",
              "            + ' to learn more about interactive tables.';\n",
              "          element.innerHTML = '';\n",
              "          dataTable['output_type'] = 'display_data';\n",
              "          await google.colab.output.renderOutput(dataTable, element);\n",
              "          const docLink = document.createElement('div');\n",
              "          docLink.innerHTML = docLinkHtml;\n",
              "          element.appendChild(docLink);\n",
              "        }\n",
              "      </script>\n",
              "    </div>\n",
              "  </div>\n",
              "  "
            ]
          },
          "metadata": {},
          "execution_count": 6
        }
      ]
    },
    {
      "cell_type": "markdown",
      "metadata": {
        "id": "vdSkKMTy7lv0"
      },
      "source": [
        "### **Data manipulation**"
      ]
    },
    {
      "cell_type": "code",
      "metadata": {
        "id": "VK4QK8vlI4EC"
      },
      "source": [
        "def matToDataFrame(name):\n",
        "    data = loadmat( name + '.mat' )\n",
        "\n",
        "    data = data['OP_Dec'] \n",
        "    data = data['Cal'] \n",
        "    dataPot = data['PotTotal'] \n",
        "    dataPot = dataPot['bruta'] \n",
        "    dataPot = dataPot['DADOS']\n",
        "    dataPot = dataPot['avg'] \n",
        "    potTotal = 0\n",
        "    count = 0\n",
        "    for pot in dataPot:\n",
        "        pot = np.array(pot)\n",
        "        if (math.isnan(pot.flat[0])):\n",
        "            pot.flat[0] = 0\n",
        "            count += 1\n",
        "        potTotal += pot\n",
        "    dataPot = potTotal/(len(dataPot)-count)\n",
        "\n",
        "    dataWS = data['WTG'][0] \n",
        "    dataWS = dataWS['DADOS']\n",
        "    dataWS = dataWS['WS']\n",
        "    dataWS = dataWS['avg']\n",
        "    wSx = 0\n",
        "    wSy = 0\n",
        "    wSz = 0\n",
        "    count = 0\n",
        "    for wind in dataWS:\n",
        "        wind = np.array(wind)\n",
        "        windX = wind.flat[0]\n",
        "        windY = 0\n",
        "        windZ = 0\n",
        "        if (len(wind) >2):\n",
        "            windY = wind.flat[1]\n",
        "            windZ = wind.flat[2]\n",
        "       \n",
        "        if (math.isnan(wind.flat[0]) and wind.flat[0] != None):\n",
        "            windX = 0\n",
        "            windY = 0\n",
        "            windZ = 0\n",
        "            count += 1\n",
        "\n",
        "\n",
        "               \n",
        "        if (len(wind) >1 and math.isnan(wind.flat[1])):\n",
        "            windX = 0\n",
        "            windY = 0\n",
        "            windZ = 0\n",
        "            count += 1\n",
        "\n",
        "\n",
        "        if ( len(wind) >2 != None and math.isnan(wind.flat[2])):\n",
        "            windX = 0\n",
        "            windY = 0\n",
        "            windZ = 0\n",
        "            count += 1\n",
        "\n",
        "\n",
        "        wSx += windX\n",
        "        wSy += windY\n",
        "        wSz += windZ \n",
        "    wSx = wSx/(len(dataWS) - count) \n",
        "    wSy = wSy/(len(dataWS) - count) \n",
        "    wSz = wSz/(len(dataWS) - count) \n",
        "\n",
        "    if (wSz != 0):\n",
        "        dataWS = ((wSx**2 + wSz**2)**0.5 +wSy**2)**0.5\n",
        "    else:\n",
        "        dataWS = wSx\n",
        "    \n",
        "    dataWD = data['WTG'][0] \n",
        "    dataWD = dataWD['DADOS']\n",
        "    dataWD = dataWD['WS']\n",
        "    dataWD = dataWD['avg']\n",
        "    \n",
        "    wSx = 0\n",
        "    wSy = 0\n",
        "    wSz = 0\n",
        "    count = 0\n",
        "    for wind in dataWD:\n",
        "        wind = np.array(wind)\n",
        "        windX = wind.flat[0]\n",
        "        windY = 0\n",
        "        windZ = 0\n",
        "        if (len(wind) >2):\n",
        "            windY = wind.flat[1]\n",
        "            windZ = wind.flat[2]\n",
        "       \n",
        "        if (math.isnan(wind.flat[0]) and wind.flat[0] != None):\n",
        "            windX = 0\n",
        "            windY = 0\n",
        "            windZ = 0\n",
        "            count += 1\n",
        "\n",
        "\n",
        "               \n",
        "        if (len(wind) >1 and math.isnan(wind.flat[1])):\n",
        "            windX = 0\n",
        "            windY = 0\n",
        "            windZ = 0\n",
        "            count += 1\n",
        "\n",
        "\n",
        "        if ( len(wind) >2 != None and math.isnan(wind.flat[2])):\n",
        "            windX = 0\n",
        "            windY = 0\n",
        "            windZ = 0\n",
        "            count += 1\n",
        "\n",
        "\n",
        "        wSx += windX\n",
        "        wSy += windY\n",
        "        wSz += windZ \n",
        "\n",
        "    wSx = wSx/(len(dataWD) - count) \n",
        "    wSy = wSy/(len(dataWD) - count) \n",
        "    wSz = wSz/(len(dataWD) - count) \n",
        "    dataWD = ((wSx**2 + wSz**2)**0.5 +wSy**2)**0.5\n",
        "\n",
        "    \n",
        "    dataset = pd.DataFrame({'Velocidade': dataWS, 'PotTotal': dataPot,'Direção': dataWD})\n",
        "    dataset = dataset.explode('PotTotal')\n",
        "\n",
        "\n",
        "    return dataset"
      ],
      "execution_count": null,
      "outputs": []
    },
    {
      "cell_type": "code",
      "metadata": {
        "id": "VfgxXvoVL6Mn"
      },
      "source": [
        "colonia = matToDataFrame('/content/drive/My Drive/Dados parques/DadosIBTU/SCADA_TesteCFT (1)/Taiba (1)/Colonia_SCADA_1day')\n",
        "andorinha = matToDataFrame('/content/drive/My Drive/Dados parques/DadosIBTU/SCADA_TesteCFT (1)/Taiba (1)/Andorinha_SCADA_1mo')\n",
        "aguia = matToDataFrame('/content/drive/My Drive/Dados parques/DadosIBTU/SCADA_TesteCFT (1)/Taiba (1)/Aguia_SCADA_1mo')\n",
        "santo_adriano = matToDataFrame('/content/drive/My Drive/Dados parques/DadosIBTU/SCADA_TesteCFT (1)/Caldeirao (1)/Santo_Adriano_SCADA_1mo')\n",
        "santo_barbara = matToDataFrame('/content/drive/My Drive/Dados parques/DadosIBTU/SCADA_TesteCFT (1)/Caldeirao (1)/Santa_Barbara_SCADA_1mo')\n",
        "santa_fatima = matToDataFrame('/content/drive/My Drive/Dados parques/DadosIBTU/SCADA_TesteCFT (1)/Caldeirao (1)/Santa_Fatima_SCADA_1mo')\n",
        "santa_edwiges = matToDataFrame('/content/drive/My Drive/Dados parques/DadosIBTU/SCADA_TesteCFT (1)/Caldeirao (1)/Santa_Edwiges_SCADA_1mo')\n",
        "santa_regina = matToDataFrame('/content/drive/My Drive/Dados parques/DadosIBTU/SCADA_TesteCFT (1)/Caldeirao (1)/Santa_Regina_SCADA_1mo')\n",
        "santa_albano = matToDataFrame('/content/drive/My Drive/Dados parques/DadosIBTU/SCADA_TesteCFT (1)/Caldeirao (1)/Santo_Albano_SCADA_1mo')\n",
        "santa_angelina = matToDataFrame('/content/drive/My Drive/Dados parques/DadosIBTU/SCADA_TesteCFT (1)/Caldeirao (1)/Santa_Angelina_SCADA_1mo')\n",
        "icaraiI = matToDataFrame('/content/drive/My Drive/Dados parques/DadosIBTU/SCADA_TesteCFT (1)/Icarai (1)/Icarai_I_SCADA_1mo')\n",
        "icaraiII = matToDataFrame('/content/drive/My Drive/Dados parques/DadosIBTU/SCADA_TesteCFT (1)/Icarai (1)/Icarai_II_SCADA_1mo')\n",
        "ig = matToDataFrame('/content/drive/My Drive/Dados parques/DadosIBTU/SCADA_TesteCFT (1)/Amontada (1)/IG_SCADA_1mo')\n",
        "bc = matToDataFrame('/content/drive/My Drive/Dados parques/DadosIBTU/SCADA_TesteCFT (1)/Amontada (1)/BC_SCADA_1mo')\n",
        "rib = matToDataFrame('/content/drive/My Drive/Dados parques/DadosIBTU/SCADA_TesteCFT (1)/Amontada (1)/RIB_SCADA_1mo')\n",
        "riachãoI = matToDataFrame('/content/drive/My Drive/Dados parques/DadosIBTU/SCADA_TesteCFT (1)/Riachao (1)/Riachao_I_SCADA_1mo')\n",
        "riachãoII = matToDataFrame('/content/drive/My Drive/Dados parques/DadosIBTU/SCADA_TesteCFT (1)/Riachao (1)/Riachao_II_SCADA_1mo')\n",
        "riachãoIV = matToDataFrame('/content/drive/My Drive/Dados parques/DadosIBTU/SCADA_TesteCFT (1)/Riachao (1)/Riachao_IV_SCADA_1mo')\n",
        "riachãoVI = matToDataFrame('/content/drive/My Drive/Dados parques/DadosIBTU/SCADA_TesteCFT (1)/Riachao (1)/Riachao_VI_SCADA_1mo')\n",
        "riachãoVII = matToDataFrame('/content/drive/My Drive/Dados parques/DadosIBTU/SCADA_TesteCFT (1)/Riachao (1)/Riachao_VII_SCADA_1mo')\n",
        "\n",
        "\n"
      ],
      "execution_count": null,
      "outputs": []
    },
    {
      "cell_type": "code",
      "source": [
        "def matToDataFrameTest(name):\n",
        "    data = loadmat( name + '.mat' )\n",
        "\n",
        "    data = data['OP_Dec'] \n",
        "    data = data['Cal'] \n",
        "    dataPot = data['PotTotal'] \n",
        "    dataPot = dataPot['bruta'] \n",
        "    dataPot = dataPot['DADOS']\n",
        "    dataPot = dataPot['avg'] \n",
        "\n",
        "    dataWS = data['WTG'][0] \n",
        "    dataWS = dataWS['DADOS']\n",
        "    dataWS = dataWS['WS']\n",
        "    dataWS = dataWS['avg']\n",
        "\n",
        "    dataWD = data['WTG'][0] \n",
        "    dataWD = dataWD['DADOS']\n",
        "    dataWD = dataWD['WS']\n",
        "    dataWD = dataWD['avg']\n",
        "\n",
        "    dataWind = []\n",
        "    wSx = 0\n",
        "    wSy = 0\n",
        "    wSz = 0\n",
        "    count = 0\n",
        "    for wind in dataWS:\n",
        "        wind = np.array(wind)\n",
        "        windX = wind.flat[0]\n",
        "        windY = 0\n",
        "        windZ = 0\n",
        "        if (len(wind) >2):\n",
        "            windY = wind.flat[1]\n",
        "            windZ = wind.flat[2]\n",
        "       \n",
        "        if (math.isnan(wind.flat[0]) and wind.flat[0] != None):\n",
        "            windX = 0\n",
        "            windY = 0\n",
        "            windZ = 0\n",
        "            count += 1\n",
        "\n",
        "\n",
        "               \n",
        "        if (len(wind) >1 and math.isnan(wind.flat[1])):\n",
        "            windX = 0\n",
        "            windY = 0\n",
        "            windZ = 0\n",
        "            count += 1\n",
        "\n",
        "\n",
        "        if ( len(wind) >2 != None and math.isnan(wind.flat[2])):\n",
        "            windX = 0\n",
        "            windY = 0\n",
        "            windZ = 0\n",
        "            count += 1\n",
        "        \n",
        "        wSx = windX\n",
        "        wSy = windY\n",
        "        wSz = windZ \n",
        "        dataWDSQRT = ((wSx**2 + wSz**2)**0.5 +wSy**2)**0.5\n",
        "        dataWind.append(dataWDSQRT)\n",
        "    \n",
        "    \n",
        "    dataWindDiraction = []\n",
        "    wSx = 0\n",
        "    wSy = 0\n",
        "    wSz = 0\n",
        "    count = 0\n",
        "    for wind in dataWD:\n",
        "        wind = np.array(wind)\n",
        "        windX = wind.flat[0]\n",
        "        windY = 0\n",
        "        windZ = 0\n",
        "        if (len(wind) >2):\n",
        "            windY = wind.flat[1]\n",
        "            windZ = wind.flat[2]\n",
        "       \n",
        "        if (math.isnan(wind.flat[0]) and wind.flat[0] != None):\n",
        "            windX = 0\n",
        "            windY = 0\n",
        "            windZ = 0\n",
        "            count += 1\n",
        "\n",
        "\n",
        "               \n",
        "        if (len(wind) >1 and math.isnan(wind.flat[1])):\n",
        "            windX = 0\n",
        "            windY = 0\n",
        "            windZ = 0\n",
        "            count += 1\n",
        "\n",
        "\n",
        "        if ( len(wind) >2 != None and math.isnan(wind.flat[2])):\n",
        "            windX = 0\n",
        "            windY = 0\n",
        "            windZ = 0\n",
        "            count += 1\n",
        "        \n",
        "        wSx = windX\n",
        "        wSy = windY\n",
        "        wSz = windZ \n",
        "        dataWDSQRT = ((wSx**2 + wSz**2)**0.5 +wSy**2)**0.5\n",
        "        dataWindDiraction.append(dataWDSQRT)\n",
        "\n",
        "\n",
        "    \n",
        "    dataset = pd.DataFrame({'Velocidade': dataWind, 'PotTotal': dataPot,'Direção': dataWindDiraction})\n",
        "    dataset = dataset.explode('PotTotal')\n",
        "\n",
        "\n",
        "    return dataset\n"
      ],
      "metadata": {
        "id": "O7ZGPsG_mL6t"
      },
      "execution_count": null,
      "outputs": []
    },
    {
      "cell_type": "code",
      "metadata": {
        "id": "r80oLRghjhI2"
      },
      "source": [
        "colonia = matToDataFrameTest('/content/drive/My Drive/Dados parques/DadosIBTU/SCADA_TesteCFT (1)/Taiba (1)/Colonia_SCADA_1_day')\n",
        "colonia = colonia[colonia['PotTotal'].notna()]\n",
        "colonia = colonia[(colonia != 0).all(1)]\n",
        "andorinha = matToDataFrame('/content/drive/My Drive/Dados parques/DadosIBTU/SCADA_TesteCFT (1)/Taiba (1)/Andorinha_SCADA_1_day')\n",
        "andorinha = andorinha[andorinha['PotTotal'].notna()]\n",
        "andorinha = andorinha[(andorinha != 0).all(1)]\n",
        "aguia = matToDataFrame('/content/drive/My Drive/Dados parques/DadosIBTU/SCADA_TesteCFT (1)/Taiba (1)/Aguia_SCADA_1_day')\n",
        "aguia = aguia[aguia['PotTotal'].notna()]\n",
        "aguia = aguia[(aguia != 0).all(1)]\n",
        "santo_adriano = matToDataFrame('/content/drive/My Drive/Dados parques/DadosIBTU/SCADA_TesteCFT (1)/Caldeirao (1)/Santo_Adriano_SCADA_1_day')\n",
        "santo_adriano = santo_adriano[santo_adriano['PotTotal'].notna()]\n",
        "santo_adriano = santo_adriano[(santo_adriano != 0).all(1)]\n",
        "santo_barbara = matToDataFrame('/content/drive/My Drive/Dados parques/DadosIBTU/SCADA_TesteCFT (1)/Caldeirao (1)/Santa_Barbara_SCADA_1_day')\n",
        "santo_barbara = santo_barbara[santo_barbara['PotTotal'].notna()]\n",
        "santo_barbara = santo_barbara[(santo_barbara != 0).all(1)]\n",
        "santa_fatima = matToDataFrame('/content/drive/My Drive/Dados parques/DadosIBTU/SCADA_TesteCFT (1)/Caldeirao (1)/Santa_Fatima_SCADA_1_day')\n",
        "santa_fatima = santa_fatima[santa_fatima['PotTotal'].notna()]\n",
        "santa_fatima = santa_fatima[(santa_fatima != 0).all(1)]\n",
        "santa_edwiges = matToDataFrame('/content/drive/My Drive/Dados parques/DadosIBTU/SCADA_TesteCFT (1)/Caldeirao (1)/Santa_Edwiges_SCADA_1_day')\n",
        "santa_edwiges = santa_edwiges[santa_edwiges['PotTotal'].notna()]\n",
        "santa_edwiges = santa_edwiges[(santa_edwiges != 0).all(1)]\n",
        "santa_regina = matToDataFrame('/content/drive/My Drive/Dados parques/DadosIBTU/SCADA_TesteCFT (1)/Caldeirao (1)/Santa_Regina_SCADA_1_day')\n",
        "santa_regina = santa_regina[santa_regina['PotTotal'].notna()]\n",
        "santa_regina = santa_regina[(santa_regina != 0).all(1)]\n",
        "santa_albano = matToDataFrame('/content/drive/My Drive/Dados parques/DadosIBTU/SCADA_TesteCFT (1)/Caldeirao (1)/Santo_Albano_SCADA_1_day')\n",
        "santa_albano = santa_albano[santa_albano['PotTotal'].notna()]\n",
        "santa_albano = santa_albano[(santa_albano != 0).all(1)]\n",
        "santa_angelina = matToDataFrame('/content/drive/My Drive/Dados parques/DadosIBTU/SCADA_TesteCFT (1)/Caldeirao (1)/Santa_Angelina_SCADA_1_day')\n",
        "santa_angelina = santa_angelina[(santa_angelina != 0).all(1)]\n",
        "santa_angelina = santa_angelina[santa_angelina['PotTotal'].notna()]\n",
        "icaraiI = matToDataFrame('/content/drive/My Drive/Dados parques/DadosIBTU/SCADA_TesteCFT (1)/Icarai (1)/Icarai_I_SCADA_1_day')\n",
        "icaraiI = icaraiI[icaraiI['PotTotal'].notna()]\n",
        "icaraiI = icaraiI[(icaraiI != 0).all(1)]\n",
        "icaraiII = matToDataFrame('/content/drive/My Drive/Dados parques/DadosIBTU/SCADA_TesteCFT (1)/Icarai (1)/Icarai_II_SCADA_1_day')\n",
        "icaraiII = icaraiII[icaraiII['PotTotal'].notna()]\n",
        "icaraiII = icaraiII[(icaraiII != 0).all(1)]\n",
        "ig = matToDataFrame('/content/drive/My Drive/Dados parques/DadosIBTU/SCADA_TesteCFT (1)/Amontada (1)/IG_SCADA_1_day')\n",
        "ig = ig[ig['PotTotal'].notna()]\n",
        "ig = ig[(ig != 0).all(1)]\n",
        "bc = matToDataFrame('/content/drive/My Drive/Dados parques/DadosIBTU/SCADA_TesteCFT (1)/Amontada (1)/BC_SCADA_1_day')\n",
        "bc = bc[bc['PotTotal'].notna()]\n",
        "bc = bc[(bc != 0).all(1)]\n",
        "rib = matToDataFrame('/content/drive/My Drive/Dados parques/DadosIBTU/SCADA_TesteCFT (1)/Amontada (1)/RIB_SCADA_1_day')\n",
        "rib = rib[rib['PotTotal'].notna()]\n",
        "rib = rib[(rib != 0).all(1)]\n",
        "riachãoI = matToDataFrame('/content/drive/My Drive/Dados parques/DadosIBTU/SCADA_TesteCFT (1)/Riachao (1)/Riachao_I_SCADA_1_day')\n",
        "riachãoI = riachãoI[riachãoI['PotTotal'].notna()]\n",
        "riachãoI = riachãoI[(riachãoI != 0).all(1)]\n",
        "riachãoII = matToDataFrame('/content/drive/My Drive/Dados parques/DadosIBTU/SCADA_TesteCFT (1)/Riachao (1)/Riachao_II_SCADA_1_day')\n",
        "riachãoII = riachãoII[riachãoII['PotTotal'].notna()]\n",
        "riachãoII = riachãoII[(riachãoII != 0).all(1)]\n",
        "riachãoIV = matToDataFrame('/content/drive/My Drive/Dados parques/DadosIBTU/SCADA_TesteCFT (1)/Riachao (1)/Riachao_IV_SCADA_1_day')\n",
        "riachãoIV = riachãoIV[riachãoIV['PotTotal'].notna()]\n",
        "riachãoIV = riachãoIV[(riachãoIV != 0).all(1)]\n",
        "riachãoVI = matToDataFrame('/content/drive/My Drive/Dados parques/DadosIBTU/SCADA_TesteCFT (1)/Riachao (1)/Riachao_VI_SCADA_1_day')\n",
        "riachãoVI = riachãoVI[riachãoVI['PotTotal'].notna()]\n",
        "riachãoVI = riachãoVI[(riachãoVI != 0).all(1)]\n",
        "riachãoVII = matToDataFrame('/content/drive/My Drive/Dados parques/DadosIBTU/SCADA_TesteCFT (1)/Riachao (1)/Riachao_VII_SCADA_1_day')\n",
        "riachãoVII = riachãoVII[riachãoVII['PotTotal'].notna()]\n",
        "riachãoVII = riachãoVII[(riachãoVII != 0).all(1)]"
      ],
      "execution_count": null,
      "outputs": []
    },
    {
      "cell_type": "code",
      "source": [
        "colonia = colonia.to_csv(\"Colonia_SCADA_1_day\", sep='\\t')"
      ],
      "metadata": {
        "id": "1FY1CglMrCVU"
      },
      "execution_count": null,
      "outputs": []
    },
    {
      "cell_type": "markdown",
      "metadata": {
        "id": "45NxRNUehO63"
      },
      "source": [
        "### merge"
      ]
    },
    {
      "cell_type": "code",
      "metadata": {
        "id": "b2y8be-8hLeU"
      },
      "source": [
        "def mergeAllDatas():\n",
        "    arrayResult = []\n",
        "    for i in range(0,len(colonia)):\n",
        "        Potencia = [colonia['PotTotal'][i],andorinha['PotTotal'][i],aguia['PotTotal'][i],santo_adriano['PotTotal'][i],santo_barbara['PotTotal'][i],\n",
        "            santa_fatima['PotTotal'][i],santa_edwiges['PotTotal'][i],santa_regina['PotTotal'][i],santa_albano['PotTotal'][i],\n",
        "            santa_angelina['PotTotal'][i],icaraiI['PotTotal'][i],icaraiII['PotTotal'][i],\n",
        "            icaraiI['PotTotal'][i],ig['PotTotal'][i],bc['PotTotal'][i],rib['PotTotal'][i],\n",
        "            riachãoI['PotTotal'][i],riachãoII['PotTotal'][i],riachãoIV['PotTotal'][i],riachãoVI['PotTotal'][i],riachãoVII['PotTotal'][i]]\n",
        "\n",
        "        Velocidade = [colonia['Velocidade'][i],andorinha['Velocidade'][i],aguia['Velocidade'][i],santo_adriano['Velocidade'][i],santo_barbara['Velocidade'][i],\n",
        "            santa_fatima['Velocidade'][i],santa_edwiges['Velocidade'][i],santa_regina['Velocidade'][i],santa_albano['Velocidade'][i],\n",
        "            santa_angelina['Velocidade'][i],icaraiI['Velocidade'][i],icaraiII['Velocidade'][i],\n",
        "            icaraiI['Velocidade'][i],ig['Velocidade'][i],bc['Velocidade'][i],rib['Velocidade'][i],\n",
        "            riachãoI['Velocidade'][i],riachãoII['Velocidade'][i],riachãoIV['Velocidade'][i],riachãoVI['Velocidade'][i],riachãoVII['Velocidade'][i]]\n",
        "\n",
        "        direcao = [colonia['Direção'][i],andorinha['Direção'][i],aguia['Direção'][i],santo_adriano['Direção'][i],santo_barbara['Direção'][i],\n",
        "            santa_fatima['Direção'][i],santa_edwiges['Direção'][i],santa_regina['Direção'][i],santa_albano['Direção'][i],\n",
        "            santa_angelina['Direção'][i],icaraiI['Direção'][i],icaraiII['Direção'][i],\n",
        "            icaraiI['Direção'][i],ig['Direção'][i],bc['Direção'][i],rib['Direção'][i],\n",
        "            riachãoI['Direção'][i],riachãoII['Direção'][i],riachãoIV['Direção'][i],riachãoVI['Direção'][i],riachãoVII['Direção'][i]]\n",
        "\n",
        "        Parque = ['colonia','andorinha','aguia','santo_adriano','santo_barbara','santa_fatima','santa_edwiges',\n",
        "            'santa_regina','santa_albano','santa_angelina','icaraiI','icaraiII','icaraiI',\n",
        "            'ig','bc','rib','riachãoI','riachãoII','riachãoIV','riachãoVI','riachãoVII']\n",
        "\n",
        "\n",
        "\n",
        "        TesteDataFrame = pd.DataFrame({'Velocidade': Velocidade,'Direção':direcao,'Potencia': Potencia, 'Parque': Parque})\n",
        "        TesteDataFrame = TesteDataFrame.fillna(0)\n",
        "        arrayResult.append(TesteDataFrame)\n",
        "    return arrayResult"
      ],
      "execution_count": null,
      "outputs": []
    },
    {
      "cell_type": "code",
      "metadata": {
        "id": "XqLUoj5B7PCc"
      },
      "source": [
        "dataFramesToCluster = mergeAllDatas()"
      ],
      "execution_count": null,
      "outputs": []
    },
    {
      "cell_type": "markdown",
      "metadata": {
        "id": "eMiKa6smlPI8"
      },
      "source": []
    },
    {
      "cell_type": "code",
      "metadata": {
        "id": "9EGuyU7GlRLF"
      },
      "source": [
        "def findTheBestNumberOfClusters(dataSet):\n",
        "    arrayNumerosDeClusters = []\n",
        "    for sample in dataSet:\n",
        "        neigh = NearestNeighbors(n_neighbors=2)\n",
        "        nbrs = neigh.fit((sample[['Velocidade','Direção','Potencia']]))\n",
        "        distances, indices = nbrs.kneighbors((sample[['Velocidade','Direção','Potencia']]))\n",
        "        distances = np.sort(distances, axis=0)    \n",
        "        distances = distances[:,1]\n",
        "        plt.plot(distances)\n",
        "\n",
        "    return arrayNumerosDeClusters"
      ],
      "execution_count": null,
      "outputs": []
    },
    {
      "cell_type": "code",
      "metadata": {
        "colab": {
          "base_uri": "https://localhost:8080/",
          "height": 282
        },
        "id": "gSTCsZm2lWW9",
        "outputId": "bb04633b-cef0-441e-e26d-8fe87d86e0d6"
      },
      "source": [
        "numberOfCluster = findTheBestNumberOfClusters(dataFramesToCluster)\n"
      ],
      "execution_count": null,
      "outputs": [
        {
          "output_type": "stream",
          "name": "stdout",
          "text": [
            "[0. 0.]\n"
          ]
        },
        {
          "output_type": "display_data",
          "data": {
            "image/png": "[encoded data removed]",
            "text/plain": [
              "<Figure size 432x288 with 1 Axes>"
            ]
          },
          "metadata": {
            "needs_background": "light"
          }
        }
      ]
    },
    {
      "cell_type": "markdown",
      "metadata": {
        "id": "LZKgbAuF8Kh-"
      },
      "source": [
        "### **Clustering**"
      ]
    },
    {
      "cell_type": "code",
      "metadata": {
        "id": "n-LfJtdS8MPk"
      },
      "source": [
        "def useKmeans(dataSetNorm):\n",
        "    for sample in dataSetNorm:\n",
        "        kmeans = KMeans(n_clusters=8).fit((sample[['Velocidade','Direção','Potencia']]))\n",
        "        centroids = kmeans.cluster_centers_\n",
        "        fig = plt.figure()\n",
        "        ax = Axes3D(fig)\n",
        "        ax.scatter(sample['Velocidade'],sample['Direção'], sample['Potencia'], c= kmeans.labels_.astype(float), s=50, alpha=0.5)\n",
        "        # ax.scatter(centroids[:, 0], centroids[:, 1], c='red', s=50)\n",
        "        plt.show()\n",
        "        teste = sample[['Velocidade','Direção','Potencia']]\n",
        "        fig = px.scatter_3d(teste, x='Velocidade', y='Direção', z='Potencia', color= kmeans.labels_, size='Potencia', opacity=1)\n",
        "        # px.scatter(centroids[:, 0], centroids[:, 1], color='red', s=50)\n",
        "        fig.show()\n",
        "\n",
        "        sample['Grupo'] = kmeans.labels_\n",
        "    return dataSetNorm"
      ],
      "execution_count": null,
      "outputs": []
    },
    {
      "cell_type": "code",
      "metadata": {
        "id": "StAX1fR_8jiB",
        "colab": {
          "base_uri": "https://localhost:8080/",
          "height": 1000
        },
        "outputId": "0879c5b3-0a27-4002-a90d-31357896a00c"
      },
      "source": [
        "kmeansCluster = useKmeans(dataFramesToCluster)\n",
        "kmeansCluster"
      ],
      "execution_count": null,
      "outputs": [
        {
          "output_type": "display_data",
          "data": {
            "image/png": "[encoded data removed]",
            "text/plain": [
              "<Figure size 432x288 with 1 Axes>"
            ]
          },
          "metadata": {
            "needs_background": "light"
          }
        },
        {
          "output_type": "display_data",
          "data": {
            "text/html": [
              "<html>\n",
              "<head><meta charset=\"utf-8\" /></head>\n",
              "<body>\n",
              "    <div>\n",
              "            <script src=\"https://cdnjs.cloudflare.com/ajax/libs/mathjax/2.7.5/MathJax.js?config=TeX-AMS-MML_SVG\"></script><script type=\"text/javascript\">if (window.MathJax) {MathJax.Hub.Config({SVG: {font: \"STIX-Web\"}});}</script>\n",
              "                <script type=\"text/javascript\">window.PlotlyConfig = {MathJaxConfig: 'local'};</script>\n",
              "        <script src=\"https://cdn.plot.ly/plotly-latest.min.js\"></script>    \n",
              "            <div id=\"7de36d4e-986e-4b64-9ce1-bb552a052cf8\" class=\"plotly-graph-div\" style=\"height:525px; width:100%;\"></div>\n",
              "            <script type=\"text/javascript\">\n",
              "                \n",
              "                    window.PLOTLYENV=window.PLOTLYENV || {};\n",
              "                    \n",
              "                if (document.getElementById(\"7de36d4e-986e-4b64-9ce1-bb552a052cf8\")) {\n",
              "                    Plotly.newPlot(\n",
              "                        '7de36d4e-986e-4b64-9ce1-bb552a052cf8',\n",
              "                        [{\"hoverlabel\": {\"namelength\": 0}, \"hovertemplate\": \"Velocidade=%{x}<br>Dire\\u00e7\\u00e3o=%{y}<br>Potencia=%{marker.size}<br>color=%{marker.color}\", \"legendgroup\": \"\", \"marker\": {\"color\": [0, 5, 6, 2, 1, 1, 1, 1, 1, 1, 7, 4, 7, 0, 0, 0, 7, 6, 3, 3, 6], \"coloraxis\": \"coloraxis\", \"opacity\": 1, \"size\": [8570.185519853376, 6417.80577525268, 10226.043354319216, 4838.090806687998, 13686.219913461295, 14699.347909058532, 13868.946628418438, 13941.753877755931, 14580.702253121848, 13863.568278440867, 13324.48165999388, 16034.409892175927, 13324.48165999388, 8365.833338123717, 8365.833338123717, 7653.293794397226, 12618.90446229647, 10069.2965829277, 10935.532368507622, 11669.197025740114, 9489.408682834652], \"sizemode\": \"area\", \"sizeref\": 40.08602473043982, \"symbol\": \"circle\"}, \"mode\": \"markers\", \"name\": \"\", \"scene\": \"scene\", \"showlegend\": false, \"type\": \"scatter3d\", \"x\": [14.15979096595669, 14.204592126425528, 14.051917510040917, 8.97531958648935, 9.136267602216032, 9.673273026102734, 9.422237374567876, 9.8989069085152, 9.813658546867499, 9.597974868246665, 7.626332412953013, 7.46350943384106, 7.626332412953013, 7.910036644713683, 7.910036644713683, 7.64003091194095, 9.050232353384548, 8.550541803578762, 8.415962121799947, 8.370636832569609, 7.692058631421819], \"y\": [14.15979096595669, 14.204592126425528, 14.051917510040917, 2.995883773861955, 3.022625944806276, 3.1101885836879304, 3.069566317017418, 3.1462528360758295, 3.1326759402893076, 3.098059855497738, 7.626332412953013, 7.46350943384106, 7.626332412953013, 2.81247873675761, 2.81247873675761, 2.7640605839852626, 3.008360409489619, 2.92413094843216, 2.901027769911889, 2.8932052869731884, 2.7734560806729607], \"z\": [8570.185519853376, 6417.80577525268, 10226.043354319216, 4838.090806687998, 13686.219913461295, 14699.347909058532, 13868.946628418438, 13941.753877755931, 14580.702253121848, 13863.568278440867, 13324.48165999388, 16034.409892175927, 13324.48165999388, 8365.833338123717, 8365.833338123717, 7653.293794397226, 12618.90446229647, 10069.2965829277, 10935.532368507622, 11669.197025740114, 9489.408682834652]}],\n",
              "                        {\"coloraxis\": {\"colorbar\": {\"title\": {\"text\": \"color\"}}, \"colorscale\": [[0.0, \"#0d0887\"], [0.1111111111111111, \"#46039f\"], [0.2222222222222222, \"#7201a8\"], [0.3333333333333333, \"#9c179e\"], [0.4444444444444444, \"#bd3786\"], [0.5555555555555556, \"#d8576b\"], [0.6666666666666666, \"#ed7953\"], [0.7777777777777778, \"#fb9f3a\"], [0.8888888888888888, \"#fdca26\"], [1.0, \"#f0f921\"]]}, \"legend\": {\"itemsizing\": \"constant\", \"tracegroupgap\": 0}, \"margin\": {\"t\": 60}, \"scene\": {\"domain\": {\"x\": [0.0, 1.0], \"y\": [0.0, 1.0]}, \"xaxis\": {\"title\": {\"text\": \"Velocidade\"}}, \"yaxis\": {\"title\": {\"text\": \"Dire\\u00e7\\u00e3o\"}}, \"zaxis\": {\"title\": {\"text\": \"Potencia\"}}}, \"template\": {\"data\": {\"bar\": [{\"error_x\": {\"color\": \"#2a3f5f\"}, \"error_y\": {\"color\": \"#2a3f5f\"}, \"marker\": {\"line\": {\"color\": \"#E5ECF6\", \"width\": 0.5}}, \"type\": \"bar\"}], \"barpolar\": [{\"marker\": {\"line\": {\"color\": \"#E5ECF6\", \"width\": 0.5}}, \"type\": \"barpolar\"}], \"carpet\": [{\"aaxis\": {\"endlinecolor\": \"#2a3f5f\", \"gridcolor\": \"white\", \"linecolor\": \"white\", \"minorgridcolor\": \"white\", \"startlinecolor\": \"#2a3f5f\"}, \"baxis\": {\"endlinecolor\": \"#2a3f5f\", \"gridcolor\": \"white\", \"linecolor\": \"white\", \"minorgridcolor\": \"white\", \"startlinecolor\": \"#2a3f5f\"}, \"type\": \"carpet\"}], \"choropleth\": [{\"colorbar\": {\"outlinewidth\": 0, \"ticks\": \"\"}, \"type\": \"choropleth\"}], \"contour\": [{\"colorbar\": {\"outlinewidth\": 0, \"ticks\": \"\"}, \"colorscale\": [[0.0, \"#0d0887\"], [0.1111111111111111, \"#46039f\"], [0.2222222222222222, \"#7201a8\"], [0.3333333333333333, \"#9c179e\"], [0.4444444444444444, \"#bd3786\"], [0.5555555555555556, \"#d8576b\"], [0.6666666666666666, \"#ed7953\"], [0.7777777777777778, \"#fb9f3a\"], [0.8888888888888888, \"#fdca26\"], [1.0, \"#f0f921\"]], \"type\": \"contour\"}], \"contourcarpet\": [{\"colorbar\": {\"outlinewidth\": 0, \"ticks\": \"\"}, \"type\": \"contourcarpet\"}], \"heatmap\": [{\"colorbar\": {\"outlinewidth\": 0, \"ticks\": \"\"}, \"colorscale\": [[0.0, \"#0d0887\"], [0.1111111111111111, \"#46039f\"], [0.2222222222222222, \"#7201a8\"], [0.3333333333333333, \"#9c179e\"], [0.4444444444444444, \"#bd3786\"], [0.5555555555555556, \"#d8576b\"], [0.6666666666666666, \"#ed7953\"], [0.7777777777777778, \"#fb9f3a\"], [0.8888888888888888, \"#fdca26\"], [1.0, \"#f0f921\"]], \"type\": \"heatmap\"}], \"heatmapgl\": [{\"colorbar\": {\"outlinewidth\": 0, \"ticks\": \"\"}, \"colorscale\": [[0.0, \"#0d0887\"], [0.1111111111111111, \"#46039f\"], [0.2222222222222222, \"#7201a8\"], [0.3333333333333333, \"#9c179e\"], [0.4444444444444444, \"#bd3786\"], [0.5555555555555556, \"#d8576b\"], [0.6666666666666666, \"#ed7953\"], [0.7777777777777778, \"#fb9f3a\"], [0.8888888888888888, \"#fdca26\"], [1.0, \"#f0f921\"]], \"type\": \"heatmapgl\"}], \"histogram\": [{\"marker\": {\"colorbar\": {\"outlinewidth\": 0, \"ticks\": \"\"}}, \"type\": \"histogram\"}], \"histogram2d\": [{\"colorbar\": {\"outlinewidth\": 0, \"ticks\": \"\"}, \"colorscale\": [[0.0, \"#0d0887\"], [0.1111111111111111, \"#46039f\"], [0.2222222222222222, \"#7201a8\"], [0.3333333333333333, \"#9c179e\"], [0.4444444444444444, \"#bd3786\"], [0.5555555555555556, \"#d8576b\"], [0.6666666666666666, \"#ed7953\"], [0.7777777777777778, \"#fb9f3a\"], [0.8888888888888888, \"#fdca26\"], [1.0, \"#f0f921\"]], \"type\": \"histogram2d\"}], \"histogram2dcontour\": [{\"colorbar\": {\"outlinewidth\": 0, \"ticks\": \"\"}, \"colorscale\": [[0.0, \"#0d0887\"], [0.1111111111111111, \"#46039f\"], [0.2222222222222222, \"#7201a8\"], [0.3333333333333333, \"#9c179e\"], [0.4444444444444444, \"#bd3786\"], [0.5555555555555556, \"#d8576b\"], [0.6666666666666666, \"#ed7953\"], [0.7777777777777778, \"#fb9f3a\"], [0.8888888888888888, \"#fdca26\"], [1.0, \"#f0f921\"]], \"type\": \"histogram2dcontour\"}], \"mesh3d\": [{\"colorbar\": {\"outlinewidth\": 0, \"ticks\": \"\"}, \"type\": \"mesh3d\"}], \"parcoords\": [{\"line\": {\"colorbar\": {\"outlinewidth\": 0, \"ticks\": \"\"}}, \"type\": \"parcoords\"}], \"pie\": [{\"automargin\": true, \"type\": \"pie\"}], \"scatter\": [{\"marker\": {\"colorbar\": {\"outlinewidth\": 0, \"ticks\": \"\"}}, \"type\": \"scatter\"}], \"scatter3d\": [{\"line\": {\"colorbar\": {\"outlinewidth\": 0, \"ticks\": \"\"}}, \"marker\": {\"colorbar\": {\"outlinewidth\": 0, \"ticks\": \"\"}}, \"type\": \"scatter3d\"}], \"scattercarpet\": [{\"marker\": {\"colorbar\": {\"outlinewidth\": 0, \"ticks\": \"\"}}, \"type\": \"scattercarpet\"}], \"scattergeo\": [{\"marker\": {\"colorbar\": {\"outlinewidth\": 0, \"ticks\": \"\"}}, \"type\": \"scattergeo\"}], \"scattergl\": [{\"marker\": {\"colorbar\": {\"outlinewidth\": 0, \"ticks\": \"\"}}, \"type\": \"scattergl\"}], \"scattermapbox\": [{\"marker\": {\"colorbar\": {\"outlinewidth\": 0, \"ticks\": \"\"}}, \"type\": \"scattermapbox\"}], \"scatterpolar\": [{\"marker\": {\"colorbar\": {\"outlinewidth\": 0, \"ticks\": \"\"}}, \"type\": \"scatterpolar\"}], \"scatterpolargl\": [{\"marker\": {\"colorbar\": {\"outlinewidth\": 0, \"ticks\": \"\"}}, \"type\": \"scatterpolargl\"}], \"scatterternary\": [{\"marker\": {\"colorbar\": {\"outlinewidth\": 0, \"ticks\": \"\"}}, \"type\": \"scatterternary\"}], \"surface\": [{\"colorbar\": {\"outlinewidth\": 0, \"ticks\": \"\"}, \"colorscale\": [[0.0, \"#0d0887\"], [0.1111111111111111, \"#46039f\"], [0.2222222222222222, \"#7201a8\"], [0.3333333333333333, \"#9c179e\"], [0.4444444444444444, \"#bd3786\"], [0.5555555555555556, \"#d8576b\"], [0.6666666666666666, \"#ed7953\"], [0.7777777777777778, \"#fb9f3a\"], [0.8888888888888888, \"#fdca26\"], [1.0, \"#f0f921\"]], \"type\": \"surface\"}], \"table\": [{\"cells\": {\"fill\": {\"color\": \"#EBF0F8\"}, \"line\": {\"color\": \"white\"}}, \"header\": {\"fill\": {\"color\": \"#C8D4E3\"}, \"line\": {\"color\": \"white\"}}, \"type\": \"table\"}]}, \"layout\": {\"annotationdefaults\": {\"arrowcolor\": \"#2a3f5f\", \"arrowhead\": 0, \"arrowwidth\": 1}, \"coloraxis\": {\"colorbar\": {\"outlinewidth\": 0, \"ticks\": \"\"}}, \"colorscale\": {\"diverging\": [[0, \"#8e0152\"], [0.1, \"#c51b7d\"], [0.2, \"#de77ae\"], [0.3, \"#f1b6da\"], [0.4, \"#fde0ef\"], [0.5, \"#f7f7f7\"], [0.6, \"#e6f5d0\"], [0.7, \"#b8e186\"], [0.8, \"#7fbc41\"], [0.9, \"#4d9221\"], [1, \"#276419\"]], \"sequential\": [[0.0, \"#0d0887\"], [0.1111111111111111, \"#46039f\"], [0.2222222222222222, \"#7201a8\"], [0.3333333333333333, \"#9c179e\"], [0.4444444444444444, \"#bd3786\"], [0.5555555555555556, \"#d8576b\"], [0.6666666666666666, \"#ed7953\"], [0.7777777777777778, \"#fb9f3a\"], [0.8888888888888888, \"#fdca26\"], [1.0, \"#f0f921\"]], \"sequentialminus\": [[0.0, \"#0d0887\"], [0.1111111111111111, \"#46039f\"], [0.2222222222222222, \"#7201a8\"], [0.3333333333333333, \"#9c179e\"], [0.4444444444444444, \"#bd3786\"], [0.5555555555555556, \"#d8576b\"], [0.6666666666666666, \"#ed7953\"], [0.7777777777777778, \"#fb9f3a\"], [0.8888888888888888, \"#fdca26\"], [1.0, \"#f0f921\"]]}, \"colorway\": [\"#636efa\", \"#EF553B\", \"#00cc96\", \"#ab63fa\", \"#FFA15A\", \"#19d3f3\", \"#FF6692\", \"#B6E880\", \"#FF97FF\", \"#FECB52\"], \"font\": {\"color\": \"#2a3f5f\"}, \"geo\": {\"bgcolor\": \"white\", \"lakecolor\": \"white\", \"landcolor\": \"#E5ECF6\", \"showlakes\": true, \"showland\": true, \"subunitcolor\": \"white\"}, \"hoverlabel\": {\"align\": \"left\"}, \"hovermode\": \"closest\", \"mapbox\": {\"style\": \"light\"}, \"paper_bgcolor\": \"white\", \"plot_bgcolor\": \"#E5ECF6\", \"polar\": {\"angularaxis\": {\"gridcolor\": \"white\", \"linecolor\": \"white\", \"ticks\": \"\"}, \"bgcolor\": \"#E5ECF6\", \"radialaxis\": {\"gridcolor\": \"white\", \"linecolor\": \"white\", \"ticks\": \"\"}}, \"scene\": {\"xaxis\": {\"backgroundcolor\": \"#E5ECF6\", \"gridcolor\": \"white\", \"gridwidth\": 2, \"linecolor\": \"white\", \"showbackground\": true, \"ticks\": \"\", \"zerolinecolor\": \"white\"}, \"yaxis\": {\"backgroundcolor\": \"#E5ECF6\", \"gridcolor\": \"white\", \"gridwidth\": 2, \"linecolor\": \"white\", \"showbackground\": true, \"ticks\": \"\", \"zerolinecolor\": \"white\"}, \"zaxis\": {\"backgroundcolor\": \"#E5ECF6\", \"gridcolor\": \"white\", \"gridwidth\": 2, \"linecolor\": \"white\", \"showbackground\": true, \"ticks\": \"\", \"zerolinecolor\": \"white\"}}, \"shapedefaults\": {\"line\": {\"color\": \"#2a3f5f\"}}, \"ternary\": {\"aaxis\": {\"gridcolor\": \"white\", \"linecolor\": \"white\", \"ticks\": \"\"}, \"baxis\": {\"gridcolor\": \"white\", \"linecolor\": \"white\", \"ticks\": \"\"}, \"bgcolor\": \"#E5ECF6\", \"caxis\": {\"gridcolor\": \"white\", \"linecolor\": \"white\", \"ticks\": \"\"}}, \"title\": {\"x\": 0.05}, \"xaxis\": {\"automargin\": true, \"gridcolor\": \"white\", \"linecolor\": \"white\", \"ticks\": \"\", \"title\": {\"standoff\": 15}, \"zerolinecolor\": \"white\", \"zerolinewidth\": 2}, \"yaxis\": {\"automargin\": true, \"gridcolor\": \"white\", \"linecolor\": \"white\", \"ticks\": \"\", \"title\": {\"standoff\": 15}, \"zerolinecolor\": \"white\", \"zerolinewidth\": 2}}}},\n",
              "                        {\"responsive\": true}\n",
              "                    ).then(function(){\n",
              "                            \n",
              "var gd = document.getElementById('7de36d4e-986e-4b64-9ce1-bb552a052cf8');\n",
              "var x = new MutationObserver(function (mutations, observer) {{\n",
              "        var display = window.getComputedStyle(gd).display;\n",
              "        if (!display || display === 'none') {{\n",
              "            console.log([gd, 'removed!']);\n",
              "            Plotly.purge(gd);\n",
              "            observer.disconnect();\n",
              "        }}\n",
              "}});\n",
              "\n",
              "// Listen for the removal of the full notebook cells\n",
              "var notebookContainer = gd.closest('#notebook-container');\n",
              "if (notebookContainer) {{\n",
              "    x.observe(notebookContainer, {childList: true});\n",
              "}}\n",
              "\n",
              "// Listen for the clearing of the current output cell\n",
              "var outputEl = gd.closest('.output');\n",
              "if (outputEl) {{\n",
              "    x.observe(outputEl, {childList: true});\n",
              "}}\n",
              "\n",
              "                        })\n",
              "                };\n",
              "                \n",
              "            </script>\n",
              "        </div>\n",
              "</body>\n",
              "</html>"
            ]
          },
          "metadata": {}
        },
        {
          "output_type": "execute_result",
          "data": {
            "text/plain": [
              "[    Velocidade    Direção      Potencia          Parque  Grupo\n",
              " 0    14.159791  14.159791   8570.185520         colonia      0\n",
              " 1    14.204592  14.204592   6417.805775       andorinha      5\n",
              " 2    14.051918  14.051918  10226.043354           aguia      6\n",
              " 3     8.975320   2.995884   4838.090807   santo_adriano      2\n",
              " 4     9.136268   3.022626  13686.219913   santo_barbara      1\n",
              " 5     9.673273   3.110189  14699.347909    santa_fatima      1\n",
              " 6     9.422237   3.069566  13868.946628   santa_edwiges      1\n",
              " 7     9.898907   3.146253  13941.753878    santa_regina      1\n",
              " 8     9.813659   3.132676  14580.702253    santa_albano      1\n",
              " 9     9.597975   3.098060  13863.568278  santa_angelina      1\n",
              " 10    7.626332   7.626332  13324.481660         icaraiI      7\n",
              " 11    7.463509   7.463509  16034.409892        icaraiII      4\n",
              " 12    7.626332   7.626332  13324.481660         icaraiI      7\n",
              " 13    7.910037   2.812479   8365.833338              ig      0\n",
              " 14    7.910037   2.812479   8365.833338              bc      0\n",
              " 15    7.640031   2.764061   7653.293794             rib      0\n",
              " 16    9.050232   3.008360  12618.904462        riachãoI      7\n",
              " 17    8.550542   2.924131  10069.296583       riachãoII      6\n",
              " 18    8.415962   2.901028  10935.532369       riachãoIV      3\n",
              " 19    8.370637   2.893205  11669.197026       riachãoVI      3\n",
              " 20    7.692059   2.773456   9489.408683      riachãoVII      6]"
            ]
          },
          "metadata": {},
          "execution_count": 12
        }
      ]
    },
    {
      "cell_type": "code",
      "metadata": {
        "id": "Cx4np6ycvLIu"
      },
      "source": [
        "def useDBSCAN(dataSetNorm):\n",
        "    for sample in dataSetNorm:\n",
        "        DBSCANC = DBSCAN(eps=700, min_samples=3).fit((sample[['Velocidade','Direção','Potencia']]))\n",
        "        print(DBSCANC)\n",
        "        fig = plt.figure()\n",
        "        ax = Axes3D(fig)\n",
        "        ax.scatter(sample['Velocidade'],sample['Direção'], sample['Potencia'], c= DBSCANC.labels_.astype(float), s=50, alpha=0.5)\n",
        "        # ax.scatter(centroids[:, 0], centroids[:, 1], c='red', s=50)\n",
        "        plt.show()\n",
        "        teste = sample[['Velocidade','Direção','Potencia']]\n",
        "        fig = px.scatter_3d(teste, x='Velocidade', y='Direção', z='Potencia', color= DBSCANC.labels_, size='Potencia', opacity=1)\n",
        "        # px.scatter(centroids[:, 0], centroids[:, 1], color='red', s=50)\n",
        "        fig.show()\n",
        "\n",
        "        sample['Grupo'] = DBSCANC.labels_\n",
        "    return dataSetNorm"
      ],
      "execution_count": null,
      "outputs": []
    },
    {
      "cell_type": "code",
      "metadata": {
        "colab": {
          "base_uri": "https://localhost:8080/",
          "height": 1000
        },
        "id": "gUCWnWczw69k",
        "outputId": "6b261f88-5979-45ee-eac0-dc0c60af43a6"
      },
      "source": [
        "DBSCANCluster = useDBSCAN(dataFramesToCluster)\n",
        "DBSCANCluster"
      ],
      "execution_count": null,
      "outputs": [
        {
          "output_type": "stream",
          "name": "stdout",
          "text": [
            "DBSCAN(algorithm='auto', eps=700, leaf_size=30, metric='euclidean',\n",
            "       metric_params=None, min_samples=3, n_jobs=None, p=None)\n"
          ]
        },
        {
          "output_type": "display_data",
          "data": {
            "image/png": "[encoded data removed]",
            "text/plain": [
              "<Figure size 432x288 with 1 Axes>"
            ]
          },
          "metadata": {
            "needs_background": "light"
          }
        },
        {
          "output_type": "display_data",
          "data": {
            "text/html": [
              "<html>\n",
              "<head><meta charset=\"utf-8\" /></head>\n",
              "<body>\n",
              "    <div>\n",
              "            <script src=\"https://cdnjs.cloudflare.com/ajax/libs/mathjax/2.7.5/MathJax.js?config=TeX-AMS-MML_SVG\"></script><script type=\"text/javascript\">if (window.MathJax) {MathJax.Hub.Config({SVG: {font: \"STIX-Web\"}});}</script>\n",
              "                <script type=\"text/javascript\">window.PlotlyConfig = {MathJaxConfig: 'local'};</script>\n",
              "        <script src=\"https://cdn.plot.ly/plotly-latest.min.js\"></script>    \n",
              "            <div id=\"807fb4f2-28f8-4185-beba-0f23af3ba7ce\" class=\"plotly-graph-div\" style=\"height:525px; width:100%;\"></div>\n",
              "            <script type=\"text/javascript\">\n",
              "                \n",
              "                    window.PLOTLYENV=window.PLOTLYENV || {};\n",
              "                    \n",
              "                if (document.getElementById(\"807fb4f2-28f8-4185-beba-0f23af3ba7ce\")) {\n",
              "                    Plotly.newPlot(\n",
              "                        '807fb4f2-28f8-4185-beba-0f23af3ba7ce',\n",
              "                        [{\"hoverlabel\": {\"namelength\": 0}, \"hovertemplate\": \"Velocidade=%{x}<br>Dire\\u00e7\\u00e3o=%{y}<br>Potencia=%{marker.size}<br>color=%{marker.color}\", \"legendgroup\": \"\", \"marker\": {\"color\": [0, -1, 2, -1, 1, 1, 1, 1, 1, 1, 1, -1, 1, 0, 0, -1, -1, 2, -1, -1, 2], \"coloraxis\": \"coloraxis\", \"opacity\": 1, \"size\": [8570.185519853376, 6417.80577525268, 10226.043354319216, 4838.090806687998, 13686.219913461295, 14699.347909058532, 13868.946628418438, 13941.753877755931, 14580.702253121848, 13863.568278440867, 13324.48165999388, 16034.409892175927, 13324.48165999388, 8365.833338123717, 8365.833338123717, 7653.293794397226, 12618.90446229647, 10069.2965829277, 10935.532368507622, 11669.197025740114, 9489.408682834652], \"sizemode\": \"area\", \"sizeref\": 40.08602473043982, \"symbol\": \"circle\"}, \"mode\": \"markers\", \"name\": \"\", \"scene\": \"scene\", \"showlegend\": false, \"type\": \"scatter3d\", \"x\": [14.15979096595669, 14.204592126425528, 14.051917510040917, 8.97531958648935, 9.136267602216032, 9.673273026102734, 9.422237374567876, 9.8989069085152, 9.813658546867499, 9.597974868246665, 7.626332412953013, 7.46350943384106, 7.626332412953013, 7.910036644713683, 7.910036644713683, 7.64003091194095, 9.050232353384548, 8.550541803578762, 8.415962121799947, 8.370636832569609, 7.692058631421819], \"y\": [14.15979096595669, 14.204592126425528, 14.051917510040917, 2.995883773861955, 3.022625944806276, 3.1101885836879304, 3.069566317017418, 3.1462528360758295, 3.1326759402893076, 3.098059855497738, 7.626332412953013, 7.46350943384106, 7.626332412953013, 2.81247873675761, 2.81247873675761, 2.7640605839852626, 3.008360409489619, 2.92413094843216, 2.901027769911889, 2.8932052869731884, 2.7734560806729607], \"z\": [8570.185519853376, 6417.80577525268, 10226.043354319216, 4838.090806687998, 13686.219913461295, 14699.347909058532, 13868.946628418438, 13941.753877755931, 14580.702253121848, 13863.568278440867, 13324.48165999388, 16034.409892175927, 13324.48165999388, 8365.833338123717, 8365.833338123717, 7653.293794397226, 12618.90446229647, 10069.2965829277, 10935.532368507622, 11669.197025740114, 9489.408682834652]}],\n",
              "                        {\"coloraxis\": {\"colorbar\": {\"title\": {\"text\": \"color\"}}, \"colorscale\": [[0.0, \"#0d0887\"], [0.1111111111111111, \"#46039f\"], [0.2222222222222222, \"#7201a8\"], [0.3333333333333333, \"#9c179e\"], [0.4444444444444444, \"#bd3786\"], [0.5555555555555556, \"#d8576b\"], [0.6666666666666666, \"#ed7953\"], [0.7777777777777778, \"#fb9f3a\"], [0.8888888888888888, \"#fdca26\"], [1.0, \"#f0f921\"]]}, \"legend\": {\"itemsizing\": \"constant\", \"tracegroupgap\": 0}, \"margin\": {\"t\": 60}, \"scene\": {\"domain\": {\"x\": [0.0, 1.0], \"y\": [0.0, 1.0]}, \"xaxis\": {\"title\": {\"text\": \"Velocidade\"}}, \"yaxis\": {\"title\": {\"text\": \"Dire\\u00e7\\u00e3o\"}}, \"zaxis\": {\"title\": {\"text\": \"Potencia\"}}}, \"template\": {\"data\": {\"bar\": [{\"error_x\": {\"color\": \"#2a3f5f\"}, \"error_y\": {\"color\": \"#2a3f5f\"}, \"marker\": {\"line\": {\"color\": \"#E5ECF6\", \"width\": 0.5}}, \"type\": \"bar\"}], \"barpolar\": [{\"marker\": {\"line\": {\"color\": \"#E5ECF6\", \"width\": 0.5}}, \"type\": \"barpolar\"}], \"carpet\": [{\"aaxis\": {\"endlinecolor\": \"#2a3f5f\", \"gridcolor\": \"white\", \"linecolor\": \"white\", \"minorgridcolor\": \"white\", \"startlinecolor\": \"#2a3f5f\"}, \"baxis\": {\"endlinecolor\": \"#2a3f5f\", \"gridcolor\": \"white\", \"linecolor\": \"white\", \"minorgridcolor\": \"white\", \"startlinecolor\": \"#2a3f5f\"}, \"type\": \"carpet\"}], \"choropleth\": [{\"colorbar\": {\"outlinewidth\": 0, \"ticks\": \"\"}, \"type\": \"choropleth\"}], \"contour\": [{\"colorbar\": {\"outlinewidth\": 0, \"ticks\": \"\"}, \"colorscale\": [[0.0, \"#0d0887\"], [0.1111111111111111, \"#46039f\"], [0.2222222222222222, \"#7201a8\"], [0.3333333333333333, \"#9c179e\"], [0.4444444444444444, \"#bd3786\"], [0.5555555555555556, \"#d8576b\"], [0.6666666666666666, \"#ed7953\"], [0.7777777777777778, \"#fb9f3a\"], [0.8888888888888888, \"#fdca26\"], [1.0, \"#f0f921\"]], \"type\": \"contour\"}], \"contourcarpet\": [{\"colorbar\": {\"outlinewidth\": 0, \"ticks\": \"\"}, \"type\": \"contourcarpet\"}], \"heatmap\": [{\"colorbar\": {\"outlinewidth\": 0, \"ticks\": \"\"}, \"colorscale\": [[0.0, \"#0d0887\"], [0.1111111111111111, \"#46039f\"], [0.2222222222222222, \"#7201a8\"], [0.3333333333333333, \"#9c179e\"], [0.4444444444444444, \"#bd3786\"], [0.5555555555555556, \"#d8576b\"], [0.6666666666666666, \"#ed7953\"], [0.7777777777777778, \"#fb9f3a\"], [0.8888888888888888, \"#fdca26\"], [1.0, \"#f0f921\"]], \"type\": \"heatmap\"}], \"heatmapgl\": [{\"colorbar\": {\"outlinewidth\": 0, \"ticks\": \"\"}, \"colorscale\": [[0.0, \"#0d0887\"], [0.1111111111111111, \"#46039f\"], [0.2222222222222222, \"#7201a8\"], [0.3333333333333333, \"#9c179e\"], [0.4444444444444444, \"#bd3786\"], [0.5555555555555556, \"#d8576b\"], [0.6666666666666666, \"#ed7953\"], [0.7777777777777778, \"#fb9f3a\"], [0.8888888888888888, \"#fdca26\"], [1.0, \"#f0f921\"]], \"type\": \"heatmapgl\"}], \"histogram\": [{\"marker\": {\"colorbar\": {\"outlinewidth\": 0, \"ticks\": \"\"}}, \"type\": \"histogram\"}], \"histogram2d\": [{\"colorbar\": {\"outlinewidth\": 0, \"ticks\": \"\"}, \"colorscale\": [[0.0, \"#0d0887\"], [0.1111111111111111, \"#46039f\"], [0.2222222222222222, \"#7201a8\"], [0.3333333333333333, \"#9c179e\"], [0.4444444444444444, \"#bd3786\"], [0.5555555555555556, \"#d8576b\"], [0.6666666666666666, \"#ed7953\"], [0.7777777777777778, \"#fb9f3a\"], [0.8888888888888888, \"#fdca26\"], [1.0, \"#f0f921\"]], \"type\": \"histogram2d\"}], \"histogram2dcontour\": [{\"colorbar\": {\"outlinewidth\": 0, \"ticks\": \"\"}, \"colorscale\": [[0.0, \"#0d0887\"], [0.1111111111111111, \"#46039f\"], [0.2222222222222222, \"#7201a8\"], [0.3333333333333333, \"#9c179e\"], [0.4444444444444444, \"#bd3786\"], [0.5555555555555556, \"#d8576b\"], [0.6666666666666666, \"#ed7953\"], [0.7777777777777778, \"#fb9f3a\"], [0.8888888888888888, \"#fdca26\"], [1.0, \"#f0f921\"]], \"type\": \"histogram2dcontour\"}], \"mesh3d\": [{\"colorbar\": {\"outlinewidth\": 0, \"ticks\": \"\"}, \"type\": \"mesh3d\"}], \"parcoords\": [{\"line\": {\"colorbar\": {\"outlinewidth\": 0, \"ticks\": \"\"}}, \"type\": \"parcoords\"}], \"pie\": [{\"automargin\": true, \"type\": \"pie\"}], \"scatter\": [{\"marker\": {\"colorbar\": {\"outlinewidth\": 0, \"ticks\": \"\"}}, \"type\": \"scatter\"}], \"scatter3d\": [{\"line\": {\"colorbar\": {\"outlinewidth\": 0, \"ticks\": \"\"}}, \"marker\": {\"colorbar\": {\"outlinewidth\": 0, \"ticks\": \"\"}}, \"type\": \"scatter3d\"}], \"scattercarpet\": [{\"marker\": {\"colorbar\": {\"outlinewidth\": 0, \"ticks\": \"\"}}, \"type\": \"scattercarpet\"}], \"scattergeo\": [{\"marker\": {\"colorbar\": {\"outlinewidth\": 0, \"ticks\": \"\"}}, \"type\": \"scattergeo\"}], \"scattergl\": [{\"marker\": {\"colorbar\": {\"outlinewidth\": 0, \"ticks\": \"\"}}, \"type\": \"scattergl\"}], \"scattermapbox\": [{\"marker\": {\"colorbar\": {\"outlinewidth\": 0, \"ticks\": \"\"}}, \"type\": \"scattermapbox\"}], \"scatterpolar\": [{\"marker\": {\"colorbar\": {\"outlinewidth\": 0, \"ticks\": \"\"}}, \"type\": \"scatterpolar\"}], \"scatterpolargl\": [{\"marker\": {\"colorbar\": {\"outlinewidth\": 0, \"ticks\": \"\"}}, \"type\": \"scatterpolargl\"}], \"scatterternary\": [{\"marker\": {\"colorbar\": {\"outlinewidth\": 0, \"ticks\": \"\"}}, \"type\": \"scatterternary\"}], \"surface\": [{\"colorbar\": {\"outlinewidth\": 0, \"ticks\": \"\"}, \"colorscale\": [[0.0, \"#0d0887\"], [0.1111111111111111, \"#46039f\"], [0.2222222222222222, \"#7201a8\"], [0.3333333333333333, \"#9c179e\"], [0.4444444444444444, \"#bd3786\"], [0.5555555555555556, \"#d8576b\"], [0.6666666666666666, \"#ed7953\"], [0.7777777777777778, \"#fb9f3a\"], [0.8888888888888888, \"#fdca26\"], [1.0, \"#f0f921\"]], \"type\": \"surface\"}], \"table\": [{\"cells\": {\"fill\": {\"color\": \"#EBF0F8\"}, \"line\": {\"color\": \"white\"}}, \"header\": {\"fill\": {\"color\": \"#C8D4E3\"}, \"line\": {\"color\": \"white\"}}, \"type\": \"table\"}]}, \"layout\": {\"annotationdefaults\": {\"arrowcolor\": \"#2a3f5f\", \"arrowhead\": 0, \"arrowwidth\": 1}, \"coloraxis\": {\"colorbar\": {\"outlinewidth\": 0, \"ticks\": \"\"}}, \"colorscale\": {\"diverging\": [[0, \"#8e0152\"], [0.1, \"#c51b7d\"], [0.2, \"#de77ae\"], [0.3, \"#f1b6da\"], [0.4, \"#fde0ef\"], [0.5, \"#f7f7f7\"], [0.6, \"#e6f5d0\"], [0.7, \"#b8e186\"], [0.8, \"#7fbc41\"], [0.9, \"#4d9221\"], [1, \"#276419\"]], \"sequential\": [[0.0, \"#0d0887\"], [0.1111111111111111, \"#46039f\"], [0.2222222222222222, \"#7201a8\"], [0.3333333333333333, \"#9c179e\"], [0.4444444444444444, \"#bd3786\"], [0.5555555555555556, \"#d8576b\"], [0.6666666666666666, \"#ed7953\"], [0.7777777777777778, \"#fb9f3a\"], [0.8888888888888888, \"#fdca26\"], [1.0, \"#f0f921\"]], \"sequentialminus\": [[0.0, \"#0d0887\"], [0.1111111111111111, \"#46039f\"], [0.2222222222222222, \"#7201a8\"], [0.3333333333333333, \"#9c179e\"], [0.4444444444444444, \"#bd3786\"], [0.5555555555555556, \"#d8576b\"], [0.6666666666666666, \"#ed7953\"], [0.7777777777777778, \"#fb9f3a\"], [0.8888888888888888, \"#fdca26\"], [1.0, \"#f0f921\"]]}, \"colorway\": [\"#636efa\", \"#EF553B\", \"#00cc96\", \"#ab63fa\", \"#FFA15A\", \"#19d3f3\", \"#FF6692\", \"#B6E880\", \"#FF97FF\", \"#FECB52\"], \"font\": {\"color\": \"#2a3f5f\"}, \"geo\": {\"bgcolor\": \"white\", \"lakecolor\": \"white\", \"landcolor\": \"#E5ECF6\", \"showlakes\": true, \"showland\": true, \"subunitcolor\": \"white\"}, \"hoverlabel\": {\"align\": \"left\"}, \"hovermode\": \"closest\", \"mapbox\": {\"style\": \"light\"}, \"paper_bgcolor\": \"white\", \"plot_bgcolor\": \"#E5ECF6\", \"polar\": {\"angularaxis\": {\"gridcolor\": \"white\", \"linecolor\": \"white\", \"ticks\": \"\"}, \"bgcolor\": \"#E5ECF6\", \"radialaxis\": {\"gridcolor\": \"white\", \"linecolor\": \"white\", \"ticks\": \"\"}}, \"scene\": {\"xaxis\": {\"backgroundcolor\": \"#E5ECF6\", \"gridcolor\": \"white\", \"gridwidth\": 2, \"linecolor\": \"white\", \"showbackground\": true, \"ticks\": \"\", \"zerolinecolor\": \"white\"}, \"yaxis\": {\"backgroundcolor\": \"#E5ECF6\", \"gridcolor\": \"white\", \"gridwidth\": 2, \"linecolor\": \"white\", \"showbackground\": true, \"ticks\": \"\", \"zerolinecolor\": \"white\"}, \"zaxis\": {\"backgroundcolor\": \"#E5ECF6\", \"gridcolor\": \"white\", \"gridwidth\": 2, \"linecolor\": \"white\", \"showbackground\": true, \"ticks\": \"\", \"zerolinecolor\": \"white\"}}, \"shapedefaults\": {\"line\": {\"color\": \"#2a3f5f\"}}, \"ternary\": {\"aaxis\": {\"gridcolor\": \"white\", \"linecolor\": \"white\", \"ticks\": \"\"}, \"baxis\": {\"gridcolor\": \"white\", \"linecolor\": \"white\", \"ticks\": \"\"}, \"bgcolor\": \"#E5ECF6\", \"caxis\": {\"gridcolor\": \"white\", \"linecolor\": \"white\", \"ticks\": \"\"}}, \"title\": {\"x\": 0.05}, \"xaxis\": {\"automargin\": true, \"gridcolor\": \"white\", \"linecolor\": \"white\", \"ticks\": \"\", \"title\": {\"standoff\": 15}, \"zerolinecolor\": \"white\", \"zerolinewidth\": 2}, \"yaxis\": {\"automargin\": true, \"gridcolor\": \"white\", \"linecolor\": \"white\", \"ticks\": \"\", \"title\": {\"standoff\": 15}, \"zerolinecolor\": \"white\", \"zerolinewidth\": 2}}}},\n",
              "                        {\"responsive\": true}\n",
              "                    ).then(function(){\n",
              "                            \n",
              "var gd = document.getElementById('807fb4f2-28f8-4185-beba-0f23af3ba7ce');\n",
              "var x = new MutationObserver(function (mutations, observer) {{\n",
              "        var display = window.getComputedStyle(gd).display;\n",
              "        if (!display || display === 'none') {{\n",
              "            console.log([gd, 'removed!']);\n",
              "            Plotly.purge(gd);\n",
              "            observer.disconnect();\n",
              "        }}\n",
              "}});\n",
              "\n",
              "// Listen for the removal of the full notebook cells\n",
              "var notebookContainer = gd.closest('#notebook-container');\n",
              "if (notebookContainer) {{\n",
              "    x.observe(notebookContainer, {childList: true});\n",
              "}}\n",
              "\n",
              "// Listen for the clearing of the current output cell\n",
              "var outputEl = gd.closest('.output');\n",
              "if (outputEl) {{\n",
              "    x.observe(outputEl, {childList: true});\n",
              "}}\n",
              "\n",
              "                        })\n",
              "                };\n",
              "                \n",
              "            </script>\n",
              "        </div>\n",
              "</body>\n",
              "</html>"
            ]
          },
          "metadata": {}
        },
        {
          "output_type": "execute_result",
          "data": {
            "text/plain": [
              "[    Velocidade    Direção      Potencia          Parque  Grupo\n",
              " 0    14.159791  14.159791   8570.185520         colonia      0\n",
              " 1    14.204592  14.204592   6417.805775       andorinha     -1\n",
              " 2    14.051918  14.051918  10226.043354           aguia      2\n",
              " 3     8.975320   2.995884   4838.090807   santo_adriano     -1\n",
              " 4     9.136268   3.022626  13686.219913   santo_barbara      1\n",
              " 5     9.673273   3.110189  14699.347909    santa_fatima      1\n",
              " 6     9.422237   3.069566  13868.946628   santa_edwiges      1\n",
              " 7     9.898907   3.146253  13941.753878    santa_regina      1\n",
              " 8     9.813659   3.132676  14580.702253    santa_albano      1\n",
              " 9     9.597975   3.098060  13863.568278  santa_angelina      1\n",
              " 10    7.626332   7.626332  13324.481660         icaraiI      1\n",
              " 11    7.463509   7.463509  16034.409892        icaraiII     -1\n",
              " 12    7.626332   7.626332  13324.481660         icaraiI      1\n",
              " 13    7.910037   2.812479   8365.833338              ig      0\n",
              " 14    7.910037   2.812479   8365.833338              bc      0\n",
              " 15    7.640031   2.764061   7653.293794             rib     -1\n",
              " 16    9.050232   3.008360  12618.904462        riachãoI     -1\n",
              " 17    8.550542   2.924131  10069.296583       riachãoII      2\n",
              " 18    8.415962   2.901028  10935.532369       riachãoIV     -1\n",
              " 19    8.370637   2.893205  11669.197026       riachãoVI     -1\n",
              " 20    7.692059   2.773456   9489.408683      riachãoVII      2]"
            ]
          },
          "metadata": {},
          "execution_count": 64
        }
      ]
    },
    {
      "cell_type": "code",
      "metadata": {
        "id": "Qt5gFdioml1l"
      },
      "source": [
        "def useSpectraClustering(dataSetNorm2):\n",
        "    for sample2 in dataSetNorm2:\n",
        "        spectral = SpectralClustering(n_clusters=8).fit(preprocessing.normalize(sample2[['Velocidade','Potencia','Direção']]))\n",
        "        fig = plt.figure()\n",
        "        ax = Axes3D(fig)\n",
        "        ax.scatter(sample2['Velocidade'], sample2['Potencia'],sample2['Direção'], c= spectral.labels_.astype(float), s=50, alpha=0.5)\n",
        "        # ax.scatter(centroids[:, 0], centroids[:, 1], c='red', s=50)\n",
        "        plt.show()\n",
        "        teste = sample2[['Velocidade','Potencia','Direção']]\n",
        "        fig = px.scatter_3d(teste, x='Velocidade', y='Potencia', z='Direção', color= spectral.labels_, size='Potencia', opacity=1)\n",
        "        fig.show()\n",
        "        sample2['Grupo'] = spectral.labels_\n",
        "    return dataSetNorm2"
      ],
      "execution_count": null,
      "outputs": []
    },
    {
      "cell_type": "code",
      "metadata": {
        "id": "VvCvlGlTmtxv"
      },
      "source": [
        "spectralCluster = useSpectraClustering(dataFramesToCluster)\n",
        "spectralCluster"
      ],
      "execution_count": null,
      "outputs": []
    },
    {
      "cell_type": "code",
      "metadata": {
        "id": "u7-x9MgK-Y2e"
      },
      "source": [
        "def divideByGroup(dataClustered):\n",
        "    testeGrupos = []\n",
        "    for sample in dataClustered:\n",
        "        grupo1 = sample[sample['Grupo'] == 0]['Parque'].to_list()\n",
        "        str1 = '/'.join(grupo1)\n",
        "        # testeGrupos.append(str1)\n",
        "        grupo2 = sample[sample['Grupo'] == 1]['Parque'].to_list()\n",
        "        str2 = '/'.join(grupo2)\n",
        "        # testeGrupos.append(str2)\n",
        "        grupo3 = sample[sample['Grupo'] == 2]['Parque'].to_list()\n",
        "        str3 = '/'.join(grupo3)\n",
        "        # testeGrupos.append(str3)\n",
        "        grupo4 = sample[sample['Grupo'] == 3]['Parque'].to_list()\n",
        "        str4 = '/'.join(grupo4)\n",
        "        # testeGrupos.append(str4)\n",
        "        grupo5 = sample[sample['Grupo'] == 4]['Parque'].to_list()\n",
        "        str5 = '/'.join(grupo5)\n",
        "        grupo6 = sample[sample['Grupo'] == 5]['Parque'].to_list()\n",
        "        str6 = '/'.join(grupo6)\n",
        "        grupo7 = sample[sample['Grupo'] == 6]['Parque'].to_list()\n",
        "        str7 = '/'.join(grupo7)\n",
        "        grupo8 = sample[sample['Grupo'] == 7]['Parque'].to_list()\n",
        "        str8 = '/'.join(grupo8)\n",
        "        # testeGrupos.append(str5)\n",
        "        ok = [str1,str2,str3,str4,str5,str6,str7,str8]\n",
        "        str6 = ','.join(ok)\n",
        "        testeGrupos.append(str6)\n",
        "    dataFrameGrupos = pd.DataFrame(testeGrupos) \n",
        "    return testeGrupos"
      ],
      "execution_count": null,
      "outputs": []
    },
    {
      "cell_type": "code",
      "metadata": {
        "id": "6xMAMXyq-awD"
      },
      "source": [
        "def mostCommonGroups(data):\n",
        "    resultDivideByGroup = divideByGroup(data)\n",
        "    result = Counter(resultDivideByGroup)\n",
        "    arrayMostCommun = []\n",
        "    arrayCopy = []\n",
        "    for group in result.most_common():\n",
        "    \n",
        "        arrayCopy.append([group,False])\n",
        "\n",
        "    sum = 0\n",
        "    for group in arrayCopy:\n",
        "        if group[1] == False:\n",
        "\n",
        "            sum = group[0][1]\n",
        "            for groupCompare in arrayCopy[1:]:\n",
        "\n",
        "                if set(group[0][0].split(',')) == set(groupCompare[0][0].split(',')):\n",
        "                    sum += groupCompare[0][1]\n",
        "                    groupCompare[1] = True\n",
        "            arrayMostCommun.append([group[0],sum])\n",
        "    return arrayMostCommun\n"
      ],
      "execution_count": null,
      "outputs": []
    },
    {
      "cell_type": "code",
      "metadata": {
        "id": "OTuSxbdr-dwR",
        "colab": {
          "base_uri": "https://localhost:8080/",
          "height": 37
        },
        "outputId": "b6d5e2f5-1378-42e3-b0ce-a0d7357d360b"
      },
      "source": [
        "groupsByKmeans = mostCommonGroups(kmeansCluster)\n",
        "groupsByKmeans[0][0][0]\n",
        "finalGroups = groupsByKmeans[0][0][0]\n",
        "finalDataFrame = kmeansCluster[0]\n",
        "finalGroups"
      ],
      "execution_count": null,
      "outputs": [
        {
          "output_type": "execute_result",
          "data": {
            "application/vnd.google.colaboratory.intrinsic+json": {
              "type": "string"
            },
            "text/plain": [
              "'colonia/ig/bc/rib,santo_barbara/santa_fatima/santa_edwiges/santa_regina/santa_albano/santa_angelina,santo_adriano,riachãoIV/riachãoVI,icaraiII,andorinha,aguia/riachãoII/riachãoVII,icaraiI/icaraiI/riachãoI'"
            ]
          },
          "metadata": {},
          "execution_count": 29
        }
      ]
    },
    {
      "cell_type": "code",
      "metadata": {
        "id": "xraBp7NcsmQL"
      },
      "source": [
        "final = []\n",
        "for sample in kmeansCluster:\n",
        "    grupo1 = sample[sample['Grupo'] == 0]\n",
        "    str1 = '/'.join(grupo1)\n",
        "    # testeGrupos.append(str1)\n",
        "    grupo2 = sample[sample['Grupo'] == 1]\n",
        "    str2 = '/'.join(grupo2)\n",
        "    # testeGrupos.append(str2)\n",
        "    grupo3 = sample[sample['Grupo'] == 2]\n",
        "    str3 = '/'.join(grupo3)\n",
        "    # testeGrupos.append(str3)\n",
        "    grupo4 = sample[sample['Grupo'] == 3]\n",
        "    str4 = '/'.join(grupo4)\n",
        "    # testeGrupos.append(str4)\n",
        "    grupo5 = sample[sample['Grupo'] == 4]\n",
        "    str5 = '/'.join(grupo5)\n",
        "    grupo6 = sample[sample['Grupo'] == 5]\n",
        "    str6 = '/'.join(grupo6)\n",
        "    grupo7 = sample[sample['Grupo'] == 6]\n",
        "    str7 = '/'.join(grupo7)\n",
        "    grupo8 = sample[sample['Grupo'] == 7]\n",
        "    final = [grupo1,grupo2,grupo3,grupo4,grupo5,grupo6,grupo7,grupo8]\n",
        "for prin in final:\n",
        "    print(\"\")\n",
        "    print(prin)\n",
        "    "
      ],
      "execution_count": null,
      "outputs": []
    },
    {
      "cell_type": "markdown",
      "metadata": {
        "id": "77wYYdsfxvDi"
      },
      "source": [
        "Encontrando o representante do grupo\n",
        "Usaremos o representante com a menor disperção entre os participantes\n"
      ]
    },
    {
      "cell_type": "code",
      "metadata": {
        "colab": {
          "base_uri": "https://localhost:8080/"
        },
        "id": "Feu3wUFSx6eT",
        "outputId": "74100bb4-9e37-48f3-c9ff-26dd62fd1148"
      },
      "source": [
        "# divisao dos grupos\n",
        "finalGroupsSplit = finalGroups.split(\",\")\n",
        "count = 0\n",
        "representantes = []\n",
        "for group in finalGroupsSplit:\n",
        "    windFarms = group.split(\"/\")\n",
        "    disper = []\n",
        "   \n",
        "    for farm in windFarms:\n",
        "        groupDataFrame = finalDataFrame.loc[finalDataFrame['Grupo'] == count]\n",
        "        representante = finalDataFrame.loc[finalDataFrame['Parque'] == farm]\n",
        "        sum  = groupDataFrame['Potencia'].sum(axis = 0)\n",
        "\n",
        "        representanteX4 = representante.iloc[0]['Potencia']*4\n",
        "        value = representanteX4 - sum\n",
        "        disper.append(abs(value))\n",
        "    minValue = min(disper)\n",
        "    indexMin = disper.index(minValue)\n",
        "    representantes.append(windFarms[indexMin])\n",
        "representantes\n",
        "\n"
      ],
      "execution_count": null,
      "outputs": [
        {
          "output_type": "execute_result",
          "data": {
            "text/plain": [
              "['ig',\n",
              " 'santo_barbara',\n",
              " 'santo_adriano',\n",
              " 'riachãoIV',\n",
              " 'icaraiII',\n",
              " 'andorinha',\n",
              " 'riachãoVII',\n",
              " 'riachãoI']"
            ]
          },
          "metadata": {},
          "execution_count": 47
        }
      ]
    }
  ]
}